{
 "cells": [
  {
   "cell_type": "markdown",
   "metadata": {},
   "source": [
    "# 1. Carregamento dos dados"
   ]
  },
  {
   "cell_type": "code",
   "execution_count": null,
   "metadata": {},
   "outputs": [],
   "source": [
    "from sklearn.model_selection import train_test_split\n",
    "from sklearn.ensemble import RandomForestClassifier as rfc\n",
    "from sklearn.linear_model import Ridge\n",
    "from sklearn.metrics import mean_squared_error\n",
    "from sklearn.externals import joblib\n",
    "import sklearn\n",
    "import math\n",
    "from azureml.core import Experiment\n",
    "\n",
    "# O azureml-core da versão 1.0.72 ou superior é requerido\n",
    "# é necessário azureml-dataprep[pandas] na versão 1.1.34 ou superior\n",
    "from azureml.core import Workspace, Dataset"
   ]
  },
  {
   "cell_type": "markdown",
   "metadata": {},
   "source": [
    "Autentica na sua conta Azure e acessa o Workspace de ML!"
   ]
  },
  {
   "cell_type": "code",
   "execution_count": null,
   "metadata": {},
   "outputs": [],
   "source": [
    "#Trocar os códigos abaixo pelos da sua instância!\n",
    "subscription_id = '5298dbd8-b7e6-432a-b8fc-828328490c29'\n",
    "resource_group = 'Aulas-FIAP'\n",
    "workspace_name = 'WorkspaceMLAula'\n",
    "\n",
    "workspace = Workspace(subscription_id, resource_group, workspace_name)"
   ]
  },
  {
   "cell_type": "markdown",
   "metadata": {},
   "source": [
    "Obtém o Dataset que você subiu nesta instância!"
   ]
  },
  {
   "cell_type": "code",
   "execution_count": null,
   "metadata": {},
   "outputs": [],
   "source": [
    "dataset = Dataset.get_by_name(workspace, name='Risco-de-Credito')\n",
    "df = dataset.to_pandas_dataframe()\n",
    "df.head()"
   ]
  },
  {
   "cell_type": "markdown",
   "metadata": {},
   "source": [
    "# 2. Treinamento"
   ]
  },
  {
   "cell_type": "markdown",
   "metadata": {},
   "source": [
    "## 2.1 - Separa dados em treino e teste"
   ]
  },
  {
   "cell_type": "code",
   "execution_count": null,
   "metadata": {},
   "outputs": [],
   "source": [
    "x_df = df.loc[:,[\"renda\", \"idade\", \"etnia\", \"sexo\", \"casapropria\", \"outrasrendas\", \"estadocivil\", \"escolaridade\"] ]\n",
    "y_df = df.loc[:,\"default\"]"
   ]
  },
  {
   "cell_type": "code",
   "execution_count": null,
   "metadata": {},
   "outputs": [],
   "source": [
    "X_train, X_test, y_train, y_test = train_test_split(x_df, y_df, test_size=0.2, random_state=66)"
   ]
  },
  {
   "cell_type": "markdown",
   "metadata": {},
   "source": [
    "## 2.2 Random Forest "
   ]
  },
  {
   "cell_type": "markdown",
   "metadata": {},
   "source": [
    "Prepara ambiente na nuvem para logar os experimentos"
   ]
  },
  {
   "cell_type": "code",
   "execution_count": null,
   "metadata": {},
   "outputs": [],
   "source": [
    "experiment = Experiment(workspace=workspace, name=\"risco-credito-experimentos-RF\")\n",
    "run = experiment.start_logging()\n",
    "run.log(\"Valor Parametro\", 1.0)"
   ]
  },
  {
   "cell_type": "markdown",
   "metadata": {},
   "source": [
    "Treina (treinamento simples)"
   ]
  },
  {
   "cell_type": "code",
   "execution_count": null,
   "metadata": {},
   "outputs": [],
   "source": [
    "clf = rfc()\n",
    "clf.fit(X=X_train, y=y_train)\n",
    "clf.independentcols = x_df.columns"
   ]
  },
  {
   "cell_type": "code",
   "execution_count": null,
   "metadata": {},
   "outputs": [],
   "source": [
    "clf_acuracia = clf.score(X=x_df, y=y_df)\n",
    "print(\"Modelo 01 (classificador), criado com acurácia de: [{0}]\".format(clf_acuracia))\n",
    "run.log(\"acuracia\", clf_acuracia)"
   ]
  },
  {
   "cell_type": "markdown",
   "metadata": {},
   "source": [
    "Demais logs a se registrar para este experimento."
   ]
  },
  {
   "cell_type": "code",
   "execution_count": null,
   "metadata": {},
   "outputs": [],
   "source": [
    "run.log(\"Versao sklearn\", sklearn.__version__)\n",
    "run.log(\"criterion\", clf.criterion)\n",
    "run.log(\"n_estimators\", clf.n_estimators)\n",
    "run.log(\"min_samples_leaf\", clf.min_samples_leaf)\n",
    "run.log(\"max_depth\", clf.max_depth)\n",
    "run.log_list(\"Inputs\", list(x_df.columns) )"
   ]
  },
  {
   "cell_type": "markdown",
   "metadata": {},
   "source": [
    "Salva modelo e encerra o experimento (Logger)"
   ]
  },
  {
   "cell_type": "code",
   "execution_count": null,
   "metadata": {},
   "outputs": [],
   "source": [
    "model_name = \"model_risco_RF01.pkl\"\n",
    "filename = \"outputs/\" + model_name\n",
    "\n",
    "joblib.dump(value=clf, filename=filename)\n",
    "run.upload_file(name=model_name, path_or_stream=filename)\n",
    "run.complete()"
   ]
  },
  {
   "cell_type": "markdown",
   "metadata": {},
   "source": [
    "## 2.3 Linerar Model Ridge"
   ]
  },
  {
   "cell_type": "markdown",
   "metadata": {},
   "source": [
    "Prepara ambiente na nuvem para logar os experimentos"
   ]
  },
  {
   "cell_type": "code",
   "execution_count": null,
   "metadata": {},
   "outputs": [],
   "source": [
    "experiment = Experiment(workspace=workspace, name=\"risco-credito-experimentos-Ridge\")"
   ]
  },
  {
   "cell_type": "markdown",
   "metadata": {},
   "source": [
    "Faz várias execuções, com pequenas modificações."
   ]
  },
  {
   "cell_type": "code",
   "execution_count": null,
   "metadata": {},
   "outputs": [],
   "source": [
    "alphas = [0.1, 0.2, 0.3, 0.4, 0.5, 0.6, 0.7, 0.8, 0.9, 1.0]\n",
    "\n",
    "for alpha in alphas:\n",
    "    print(\"alpha_value: {0}\".format(alpha ) )\n",
    "    run = experiment.start_logging()\n",
    "    run.log(\"alpha_value\", alpha)\n",
    "\n",
    "    model = Ridge(alpha=alpha)\n",
    "    model.fit(X=X_train, y=y_train)\n",
    "    model.independentcols = x_df.columns\n",
    "    y_pred = model.predict(X=X_test)\n",
    "    acuracia = model.score(X=x_df, y=y_df)\n",
    "    run.log(\"acuracia\", acuracia)\n",
    "    run.log(\"Versao sklearn\", sklearn.__version__)\n",
    "    rmse = math.sqrt(mean_squared_error(y_true=y_test, y_pred=y_pred))\n",
    "    run.log(\"rmse\", rmse)\n",
    "\n",
    "    model_name = \"model_alpha_\" + str(alpha) + \".pkl\"\n",
    "    filename = \"outputs/\" + model_name\n",
    "\n",
    "    joblib.dump(value=model, filename=filename)\n",
    "    run.upload_file(name=model_name, path_or_stream=filename)\n",
    "    run.complete()"
   ]
  },
  {
   "cell_type": "markdown",
   "metadata": {},
   "source": [
    "-----\n",
    "\n",
    "# FIM"
   ]
  },
  {
   "cell_type": "code",
   "execution_count": null,
   "metadata": {},
   "outputs": [],
   "source": []
  }
 ],
 "metadata": {
  "kernelspec": {
   "display_name": "Python 3.6 - AzureML",
   "language": "python",
   "name": "python3-azureml"
  },
  "language_info": {
   "codemirror_mode": {
    "name": "ipython",
    "version": 3
   },
   "file_extension": ".py",
   "mimetype": "text/x-python",
   "name": "python",
   "nbconvert_exporter": "python",
   "pygments_lexer": "ipython3",
   "version": "3.6.9"
  }
 },
 "nbformat": 4,
 "nbformat_minor": 4
}
